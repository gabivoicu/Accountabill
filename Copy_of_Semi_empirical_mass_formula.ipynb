{
  "nbformat": 4,
  "nbformat_minor": 0,
  "metadata": {
    "colab": {
      "name": "Copy of Semi-empirical-mass-formula.ipynb",
      "provenance": [],
      "include_colab_link": true
    },
    "kernelspec": {
      "name": "python3",
      "display_name": "Python 3"
    }
  },
  "cells": [
    {
      "cell_type": "markdown",
      "metadata": {
        "id": "view-in-github",
        "colab_type": "text"
      },
      "source": [
        "<a href=\"https://colab.research.google.com/github/gabivoicu/Accountabill/blob/master/Copy_of_Semi_empirical_mass_formula.ipynb\" target=\"_parent\"><img src=\"https://colab.research.google.com/assets/colab-badge.svg\" alt=\"Open In Colab\"/></a>"
      ]
    },
    {
      "cell_type": "markdown",
      "metadata": {
        "id": "l8Zd-G2uDEye"
      },
      "source": [
        "#Overview \n",
        "\n",
        "In nuclear physics, the semi-empirical mass formula is a formula\n",
        "for calculating the approximate nuclear binding energy $B$ of an atomic\n",
        "nucleus with atomic number $Z$ and mass number $A$:\n",
        "\n",
        "$\n",
        "B = a_1 A - a_2 A^{2/3} - a_3 {Z^2\\over A^{1/3}}\n",
        "    - a_4 {(A - 2Z)^2\\over A} + {a_5\\over A^{1/2}}\\,,\n",
        "$\n",
        "\n",
        "where, in units of millions of electron volts, the constants are\n",
        "$a_1=15.8$, $a_2=18.3$, $a_3=0.714$, $a_4=23.2$, and\n",
        "\n",
        "$\n",
        "a_5 = \\left\\lbrace\\begin{array}{ll}\n",
        "      0     &\\quad\\mbox{if $A$ is odd,} \\\\\n",
        "      12.0  &\\quad\\mbox{if $A$ and $Z$ are both even,} \\\\\n",
        "      -12.0 &\\quad\\mbox{if $A$ is even and $Z$ is odd.}\n",
        "      \\end{array}\\right.\n",
        "$"
      ]
    },
    {
      "cell_type": "markdown",
      "metadata": {
        "id": "ap5MgiJ92Sj3"
      },
      "source": [
        "Import numpy:"
      ]
    },
    {
      "cell_type": "code",
      "metadata": {
        "id": "p9TWB5gW2P8j"
      },
      "source": [
        "import numpy as np"
      ],
      "execution_count": null,
      "outputs": []
    },
    {
      "cell_type": "markdown",
      "metadata": {
        "id": "eeGEhCJM2XPJ"
      },
      "source": [
        "Declare constants:"
      ]
    },
    {
      "cell_type": "code",
      "metadata": {
        "id": "Okey02lE2x6A"
      },
      "source": [
        "A1 = 15.8  # MeV\n",
        "A2 = 18.3  # MeV\n",
        "A3 = 0.714 # MeV\n",
        "A4 = 23.2  # MeV"
      ],
      "execution_count": null,
      "outputs": []
    },
    {
      "cell_type": "markdown",
      "metadata": {
        "id": "vtzoBRAF3d9g"
      },
      "source": [
        "Create a function to calculate the value of the last constant, *a5*, based on the atomic number and the mass number."
      ]
    },
    {
      "cell_type": "code",
      "metadata": {
        "id": "VokrX4Ay3mNv"
      },
      "source": [
        "def get_a5_value(atomic_number, mass_number):\n",
        "  '''\n",
        "  Returns the value of a5 based on the atomic and the mass numbers.\n",
        "\n",
        "    Parameters:\n",
        "            atomic_number (int): Atomic number of atom\n",
        "            mass_number (int): Mass number of atom\n",
        "\n",
        "    Returns:\n",
        "            (int): Integer value of a5\n",
        "  '''\n",
        "  if (mass_number % 2 != 0):\n",
        "    return 0\n",
        "  elif (mass_number % 2 == 0) and (atomic_number % 2 == 0):\n",
        "    return 12.0\n",
        "  else:\n",
        "    return -12.0"
      ],
      "execution_count": null,
      "outputs": []
    },
    {
      "cell_type": "markdown",
      "metadata": {
        "id": "0sJSBpvTDn5M"
      },
      "source": [
        "##A.  \n",
        "\n",
        "Write a program that takes as its input the values of $A$ and $Z$,\n",
        "  and prints out the binding energy for the corresponding atom.  Use your\n",
        "  program to find the binding energy of an atom with $A=58$ and $Z=28$.\n",
        "  (Hint: The correct answer is around $490\\,$MeV.)"
      ]
    },
    {
      "cell_type": "markdown",
      "metadata": {
        "id": "vLRJz-laG0zi"
      },
      "source": [
        "Write a function that gets the value of `a5` based on the value of the atomic number and the mass number and then uses the formula given to calculaye the binding energy for an atom with the given atomic and mass numbers."
      ]
    },
    {
      "cell_type": "code",
      "metadata": {
        "id": "9xroO4lp-0OK",
        "colab": {
          "base_uri": "https://localhost:8080/"
        },
        "outputId": "cbd054ca-2552-4731-80c6-be72db66d434"
      },
      "source": [
        "def nuclear_binding_energy(atomic_number, mass_number):\n",
        "  a5 = get_a5_value(atomic_number, mass_number)\n",
        "  energy = A1*mass_number - A2*pow(mass_number, 2/3) - A3*pow(atomic_number, 2)/pow(mass_number, 1/3) - A4*pow(mass_number - 2*atomic_number, 2)/mass_number + a5/pow(mass_number, 1/2)\n",
        "  return round(energy)\n",
        "\n",
        "print('The binding energy of an atom with atomic number 28 and mass number 58 is', nuclear_binding_energy(28, 58), 'MeV')"
      ],
      "execution_count": null,
      "outputs": [
        {
          "output_type": "stream",
          "text": [
            "The binding energy of an atom with atomic number 28 and mass number 58 is 498 MeV\n"
          ],
          "name": "stdout"
        }
      ]
    },
    {
      "cell_type": "markdown",
      "metadata": {
        "id": "vt1s7k0DD0gx"
      },
      "source": [
        "## B.\n",
        "Copy your program below and modify it to print out not the total binding energy $B$,\n",
        "  but the binding energy per nucleon, which is $B/A$."
      ]
    },
    {
      "cell_type": "markdown",
      "metadata": {
        "id": "3OcIE5juHFCS"
      },
      "source": [
        "Use the function created above to calculate the binding of energy per nucleon, which is the total binding energy divided by the mass number."
      ]
    },
    {
      "cell_type": "code",
      "metadata": {
        "id": "YPSSnIBGEFTy",
        "colab": {
          "base_uri": "https://localhost:8080/"
        },
        "outputId": "658284d4-2d33-4f90-faad-e87bf2a3d3d1"
      },
      "source": [
        "mass_number = 58\n",
        "binding_energy_per_nucleon = round(nuclear_binding_energy(28, 58) / mass_number, 2) # 3 significant figures\n",
        "print('The binding energy per nucleon of an atom with atomic number 28 and mass number 58 is', binding_energy_per_nucleon, 'MeV')"
      ],
      "execution_count": null,
      "outputs": [
        {
          "output_type": "stream",
          "text": [
            "The binding energy per nucleon of an atom with atomic number 28 and mass number 58 is 8.59 MeV\n"
          ],
          "name": "stdout"
        }
      ]
    },
    {
      "cell_type": "markdown",
      "metadata": {
        "id": "LeYXvgHnEFxe"
      },
      "source": [
        "##C.\n",
        "\n",
        "Copy your program below and modify it so that it takes as input just a single value\n",
        "  of the atomic number $Z$ and then goes through all values of $A$ from\n",
        "  $A=Z$ to $A=3Z$, to find the one that has the largest binding energy per\n",
        "  nucleon.  This is the most stable nucleus with the given atomic number.\n",
        "  Have your program print out the value of $A$ for this most stable nucleus\n",
        "  and the value of the binding energy per nucleon."
      ]
    },
    {
      "cell_type": "markdown",
      "metadata": {
        "id": "LMHnNhDT5JBw"
      },
      "source": [
        "Going to reuse the code from section B in a loop that goes over the possible values of the mass number from the atomic number to three times the atomic number.\n",
        "Going to keep track of the highest energy and stable mass number found in the iteration in two variables that I will use at the end to print out the result."
      ]
    },
    {
      "cell_type": "code",
      "metadata": {
        "id": "UCyLrX7EETUY",
        "colab": {
          "base_uri": "https://localhost:8080/"
        },
        "outputId": "b9083321-1a50-4f97-b2ee-6d7369e73f04"
      },
      "source": [
        "def highest_binding_energy_per_nucleon(atomic_number):\n",
        "  highest_energy, stable_mass_number = 0, 0\n",
        "\n",
        "  for mass_number in np.arange(atomic_number, 3*atomic_number+1):\n",
        "    a5 = get_a5_value(atomic_number, mass_number)\n",
        "    total_energy = A1*mass_number - A2*pow(mass_number, 2/3) - A3*pow(atomic_number, 2)/pow(mass_number, 1/3) - A4*pow(mass_number - 2*atomic_number, 2)/mass_number + a5/pow(mass_number, 1/2)\n",
        "    energy_per_nucleon = total_energy / mass_number\n",
        "    if energy_per_nucleon > highest_energy:\n",
        "      highest_energy = energy_per_nucleon\n",
        "      stable_mass_number = mass_number\n",
        "  return round(highest_energy, 2), stable_mass_number\n",
        "\n",
        "energy, mass_number = highest_binding_energy_per_nucleon(28)\n",
        "print('The most stable nucleus for atomic number 28 has mass number', mass_number, 'and binding energy per nucleon', energy,'MeV.')"
      ],
      "execution_count": null,
      "outputs": [
        {
          "output_type": "stream",
          "text": [
            "The most stable nucleus for atomic number 28 has mass number 62 and binding energy per nucleon 8.7 MeV.\n"
          ],
          "name": "stdout"
        }
      ]
    },
    {
      "cell_type": "markdown",
      "metadata": {
        "id": "5_6aWQAlETuz"
      },
      "source": [
        "## D.\n",
        "\n",
        "Copy your program below and modify it  again so that, instead of taking $Z$ as input, it\n",
        "  runs through all values of $Z$ from 1 to 100 and prints out the most\n",
        "  stable value of $A$ for each one.  At what value of $Z$ does the maximum\n",
        "  binding energy per nucleon occur?  (The true answer, in real life, is\n",
        "  $Z=28$, which is nickel.  You should find that the semi-empirical mass\n",
        "  formula gets the answer roughly right, but not exactly.)"
      ]
    },
    {
      "cell_type": "markdown",
      "metadata": {
        "id": "bzlkaRBTi01E"
      },
      "source": [
        "Create variables to store the values for the highest overall energy and the corresponding atomic number."
      ]
    },
    {
      "cell_type": "code",
      "metadata": {
        "id": "FYCvDMNUi6_G"
      },
      "source": [
        "highest_energy_overall, max_energy_atomic_number = 0, 0"
      ],
      "execution_count": null,
      "outputs": []
    },
    {
      "cell_type": "markdown",
      "metadata": {
        "id": "yW7cknjAi-_1"
      },
      "source": [
        "Iterate over every atomic number in the 1..100 range. For each number, iterate through the values for the mass number, from the atomic number to three times the atomic number.\n",
        "\n",
        "For each possible combination, calculate the energy per nucleon. If the energy value is greater than the highest energy for that atomic number, store the energy value and the mass number in variables `highest_energy` and `stable_mass_number`, respectively.\n",
        "\n",
        "For each atomic number, check if `highest_energy` is greater than the value stored in `highest_energy_overall`. If it is, update `highest_energy_overall` and `max_energy_atomic_number` to the current values as they will represent the highest values now."
      ]
    },
    {
      "cell_type": "code",
      "metadata": {
        "id": "eY5EZDjpEajy",
        "colab": {
          "base_uri": "https://localhost:8080/"
        },
        "outputId": "ee66b9c2-bd80-45dc-b336-5582a32777d4"
      },
      "source": [
        "for atomic_number in np.arange(1, 101):\n",
        "  highest_energy, stable_mass_number = 0, 0\n",
        "  for mass_number in np.arange(atomic_number, 3*atomic_number+1):\n",
        "    a5 = get_a5_value(atomic_number, mass_number)\n",
        "    total_energy = A1*mass_number - A2*pow(mass_number, 2/3) - A3*pow(atomic_number, 2)/pow(mass_number, 1/3) - A4*pow(mass_number - 2*atomic_number, 2)/mass_number + a5/pow(mass_number, 1/2)\n",
        "    energy_per_nucleon = total_energy / mass_number\n",
        "    if energy_per_nucleon > highest_energy:\n",
        "      highest_energy = energy_per_nucleon\n",
        "      stable_mass_number = mass_number\n",
        "\n",
        "  print('Most stable mass number for atomic number', atomic_number, 'is', stable_mass_number)\n",
        "\n",
        "  if highest_energy > highest_energy_overall:\n",
        "        highest_energy_overall = highest_energy\n",
        "        max_energy_atomic_number = atomic_number\n",
        "\n",
        "print('Maximum binding energy per nucleon occurs for atomic number', max_energy_atomic_number)"
      ],
      "execution_count": null,
      "outputs": [
        {
          "output_type": "stream",
          "text": [
            "Most stable mass number for atomic number 1 is 3\n",
            "Most stable mass number for atomic number 2 is 4\n",
            "Most stable mass number for atomic number 3 is 7\n",
            "Most stable mass number for atomic number 4 is 8\n",
            "Most stable mass number for atomic number 5 is 11\n",
            "Most stable mass number for atomic number 6 is 14\n",
            "Most stable mass number for atomic number 7 is 15\n",
            "Most stable mass number for atomic number 8 is 18\n",
            "Most stable mass number for atomic number 9 is 19\n",
            "Most stable mass number for atomic number 10 is 22\n",
            "Most stable mass number for atomic number 11 is 25\n",
            "Most stable mass number for atomic number 12 is 26\n",
            "Most stable mass number for atomic number 13 is 29\n",
            "Most stable mass number for atomic number 14 is 30\n",
            "Most stable mass number for atomic number 15 is 33\n",
            "Most stable mass number for atomic number 16 is 36\n",
            "Most stable mass number for atomic number 17 is 37\n",
            "Most stable mass number for atomic number 18 is 40\n",
            "Most stable mass number for atomic number 19 is 43\n",
            "Most stable mass number for atomic number 20 is 44\n",
            "Most stable mass number for atomic number 21 is 47\n",
            "Most stable mass number for atomic number 22 is 48\n",
            "Most stable mass number for atomic number 23 is 51\n",
            "Most stable mass number for atomic number 24 is 54\n",
            "Most stable mass number for atomic number 25 is 55\n",
            "Most stable mass number for atomic number 26 is 58\n",
            "Most stable mass number for atomic number 27 is 61\n",
            "Most stable mass number for atomic number 28 is 62\n",
            "Most stable mass number for atomic number 29 is 65\n",
            "Most stable mass number for atomic number 30 is 68\n",
            "Most stable mass number for atomic number 31 is 69\n",
            "Most stable mass number for atomic number 32 is 72\n",
            "Most stable mass number for atomic number 33 is 75\n",
            "Most stable mass number for atomic number 34 is 76\n",
            "Most stable mass number for atomic number 35 is 79\n",
            "Most stable mass number for atomic number 36 is 82\n",
            "Most stable mass number for atomic number 37 is 85\n",
            "Most stable mass number for atomic number 38 is 86\n",
            "Most stable mass number for atomic number 39 is 89\n",
            "Most stable mass number for atomic number 40 is 92\n",
            "Most stable mass number for atomic number 41 is 93\n",
            "Most stable mass number for atomic number 42 is 96\n",
            "Most stable mass number for atomic number 43 is 99\n",
            "Most stable mass number for atomic number 44 is 102\n",
            "Most stable mass number for atomic number 45 is 103\n",
            "Most stable mass number for atomic number 46 is 106\n",
            "Most stable mass number for atomic number 47 is 109\n",
            "Most stable mass number for atomic number 48 is 110\n",
            "Most stable mass number for atomic number 49 is 113\n",
            "Most stable mass number for atomic number 50 is 116\n",
            "Most stable mass number for atomic number 51 is 119\n",
            "Most stable mass number for atomic number 52 is 120\n",
            "Most stable mass number for atomic number 53 is 123\n",
            "Most stable mass number for atomic number 54 is 126\n",
            "Most stable mass number for atomic number 55 is 129\n",
            "Most stable mass number for atomic number 56 is 130\n",
            "Most stable mass number for atomic number 57 is 133\n",
            "Most stable mass number for atomic number 58 is 136\n",
            "Most stable mass number for atomic number 59 is 139\n",
            "Most stable mass number for atomic number 60 is 140\n",
            "Most stable mass number for atomic number 61 is 143\n",
            "Most stable mass number for atomic number 62 is 146\n",
            "Most stable mass number for atomic number 63 is 149\n",
            "Most stable mass number for atomic number 64 is 150\n",
            "Most stable mass number for atomic number 65 is 153\n",
            "Most stable mass number for atomic number 66 is 156\n",
            "Most stable mass number for atomic number 67 is 159\n",
            "Most stable mass number for atomic number 68 is 162\n",
            "Most stable mass number for atomic number 69 is 163\n",
            "Most stable mass number for atomic number 70 is 166\n",
            "Most stable mass number for atomic number 71 is 169\n",
            "Most stable mass number for atomic number 72 is 172\n",
            "Most stable mass number for atomic number 73 is 175\n",
            "Most stable mass number for atomic number 74 is 176\n",
            "Most stable mass number for atomic number 75 is 179\n",
            "Most stable mass number for atomic number 76 is 182\n",
            "Most stable mass number for atomic number 77 is 185\n",
            "Most stable mass number for atomic number 78 is 188\n",
            "Most stable mass number for atomic number 79 is 191\n",
            "Most stable mass number for atomic number 80 is 192\n",
            "Most stable mass number for atomic number 81 is 195\n",
            "Most stable mass number for atomic number 82 is 198\n",
            "Most stable mass number for atomic number 83 is 201\n",
            "Most stable mass number for atomic number 84 is 204\n",
            "Most stable mass number for atomic number 85 is 205\n",
            "Most stable mass number for atomic number 86 is 208\n",
            "Most stable mass number for atomic number 87 is 211\n",
            "Most stable mass number for atomic number 88 is 214\n",
            "Most stable mass number for atomic number 89 is 217\n",
            "Most stable mass number for atomic number 90 is 220\n",
            "Most stable mass number for atomic number 91 is 223\n",
            "Most stable mass number for atomic number 92 is 224\n",
            "Most stable mass number for atomic number 93 is 227\n",
            "Most stable mass number for atomic number 94 is 230\n",
            "Most stable mass number for atomic number 95 is 233\n",
            "Most stable mass number for atomic number 96 is 236\n",
            "Most stable mass number for atomic number 97 is 239\n",
            "Most stable mass number for atomic number 98 is 242\n",
            "Most stable mass number for atomic number 99 is 243\n",
            "Most stable mass number for atomic number 100 is 246\n",
            "Maximum binding energy per nucleon occurs for atomic number 28\n"
          ],
          "name": "stdout"
        }
      ]
    }
  ]
}